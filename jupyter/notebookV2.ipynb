{
 "cells": [
  {
   "cell_type": "code",
   "execution_count": 3,
   "id": "536a34da",
   "metadata": {},
   "outputs": [
    {
     "data": {
      "text/plain": [
       "True"
      ]
     },
     "execution_count": 3,
     "metadata": {},
     "output_type": "execute_result"
    }
   ],
   "source": [
    "import os\n",
    "import warnings\n",
    "from datetime import datetime, timedelta\n",
    "from typing import Tuple\n",
    "\n",
    "import matplotlib.pyplot as plt\n",
    "import pandas as pd\n",
    "from dotenv import load_dotenv\n",
    "from prometheus_api_client import MetricSnapshotDataFrame, MetricRangeDataFrame, PrometheusConnect\n",
    "from prometheus_api_client.utils import parse_datetime\n",
    "from skforecast.ForecasterAutoreg import ForecasterAutoreg\n",
    "from sklearn.ensemble import RandomForestRegressor\n",
    "from sklearn.metrics import mean_squared_error\n",
    "\n",
    "plt.style.use('fivethirtyeight')\n",
    "plt.rcParams['lines.linewidth'] = 1.5\n",
    "\n",
    "\n",
    "warnings.filterwarnings('ignore')\n",
    "\n",
    "\n",
    "load_dotenv()"
   ]
  },
  {
   "cell_type": "code",
   "execution_count": 31,
   "id": "428e91d4",
   "metadata": {},
   "outputs": [],
   "source": [
    "class BtalertIA:\n",
    "    def __init__(self, last_minutes_importance: int, regressor=None) -> None:\n",
    "        \"\"\"\n",
    "        Args:\n",
    "            last_minutes_importance (int): The last minutes that matter to foreacasting (context)\n",
    "        \"\"\"\n",
    "        self.prom = PrometheusConnect(\n",
    "            url=os.getenv('PROMETHEUS_URL'), disable_ssl=True)\n",
    "        self.regressor = regressor\n",
    "        if regressor is None:\n",
    "            self.regressor = RandomForestRegressor(\n",
    "                max_depth=40,\n",
    "                n_estimators=3,\n",
    "                random_state=123,\n",
    "            )\n",
    "        self.forecaster = ForecasterAutoreg(\n",
    "            regressor=self.regressor,\n",
    "            lags=self.minutes_to_step(last_minutes_importance)\n",
    "        )\n",
    "        self.original_dataframe = pd.DataFrame()\n",
    "        self.data_train = pd.DataFrame()\n",
    "        self.data_test = pd.DataFrame()\n",
    "        self.predictions = pd.Series()\n",
    "        self.value_column = 'value'\n",
    "        self.timestamp_column = 'timestamp'\n",
    "\n",
    "    def load_metric_as_dataframe(self, start: str, end: str, metric_name: str, alias: str) -> pd.DataFrame:\n",
    "        start_time = parse_datetime(start)\n",
    "        end_time = parse_datetime(end)\n",
    "        original_dataframe = MetricRangeDataFrame(\n",
    "            self.prom.custom_query_range(\n",
    "                query=metric_name, start_time=start_time, end_time=end_time, step=15)\n",
    "        )[['value']]\n",
    "\n",
    "        #new_dataframe = original_dataframe[[\n",
    "        #    self.timestamp_column, self.value_column]].copy()\n",
    "        #new_dataframe[self.timestamp_column] = [datetime.fromtimestamp(\n",
    "        #    timestamp) for timestamp in new_dataframe[self.timestamp_column]]\n",
    "        original_dataframe[self.value_column] = [\n",
    "            float(value) for value in original_dataframe[self.value_column]]\n",
    "        \n",
    "        original_dataframe.rename(columns={'value': alias}, inplace=True)\n",
    "\n",
    "        #original_dataframe.Index.astype('datetime64[s]')\n",
    "        #new_dataframe[self.timestamp_column] = new_dataframe[self.timestamp_column].astype(\n",
    "        #    'datetime64[s]')\n",
    "        #new_dataframe = new_dataframe.set_index(\n",
    "        #    new_dataframe[self.timestamp_column])\n",
    "\n",
    "        #original_dataframe = original_dataframe.asfreq(freq='15S', method='bfill')\n",
    "        self.original_dataframe = original_dataframe\n",
    "        return original_dataframe\n",
    "\n",
    "    def split_test_train_dataframe(self, minutes_split: int) -> Tuple[pd.DataFrame, pd.DataFrame]:\n",
    "        steps = self.minutes_to_step(minutes_split)\n",
    "\n",
    "        self.data_train = self.original_dataframe[:-steps]\n",
    "        self.data_test = self.original_dataframe[-steps:]\n",
    "\n",
    "        return self.data_train, self.data_test\n",
    "\n",
    "    def minutes_to_step(self, min: int) -> int:\n",
    "        return int((min * 60) / 15)\n",
    "\n",
    "    def train_model(self) -> None:\n",
    "        self.forecaster.fit(y=self.data_train[self.value_column])\n",
    "\n",
    "    def predict(self, minutes_prediction: int) -> pd.Series:\n",
    "        self.predictions = self.forecaster.predict(steps=self.minutes_to_step(minutes_prediction))\n",
    "        return self.predictions\n",
    "\n",
    "    def plot_graphic(self):\n",
    "        fig, ax = plt.subplots(figsize=(18, 12))\n",
    "        self.data_train[self.value_column].plot(ax=ax, label='train')\n",
    "        self.data_test[self.value_column].plot(ax=ax, label='test')\n",
    "        self.predictions.plot(ax=ax, label='predictions')\n",
    "        ax.legend()\n",
    "\n",
    "    def get_mean_squared_error(self) -> float:\n",
    "        error_mse: float = mean_squared_error(\n",
    "            y_true=self.data_test[self.value_column],\n",
    "            y_pred=self.predictions\n",
    "        )\n",
    "        return error_mse\n",
    "\n",
    "    def execute(self, start: str, end: str, metric_name: str, minutes_split: int, minutes_prediction: int):\n",
    "        self.load_metric_as_dataframe(start, end, metric_name)\n",
    "        self.split_test_train_dataframe(minutes_split)\n",
    "        self.train_model()\n",
    "        self.predict(minutes_prediction)\n",
    "# consts\n",
    "start = '2022-05-11 07:50:07'\n",
    "end = '2022-05-11 10:47:07'\n",
    "#start = '2022-05-11 09:09:01'\n",
    "#end = '2022-05-11 08:03:53'\n",
    "min_split = 30\n",
    "# teste\n",
    "req_failed_ia = BtalertIA(60)"
   ]
  },
  {
   "cell_type": "code",
   "execution_count": 3,
   "id": "475796c6",
   "metadata": {},
   "outputs": [],
   "source": []
  },
  {
   "cell_type": "code",
   "execution_count": 4,
   "id": "e745ac23",
   "metadata": {},
   "outputs": [],
   "source": []
  },
  {
   "cell_type": "code",
   "execution_count": 5,
   "id": "e6d5b361",
   "metadata": {},
   "outputs": [
    {
     "ename": "ValueError",
     "evalue": "negative dimensions are not allowed",
     "output_type": "error",
     "traceback": [
      "\u001b[1;31m---------------------------------------------------------------------------\u001b[0m",
      "\u001b[1;31mValueError\u001b[0m                                Traceback (most recent call last)",
      "\u001b[1;32m~\\AppData\\Local\\Temp\\ipykernel_20656\\1918920788.py\u001b[0m in \u001b[0;36m<module>\u001b[1;34m\u001b[0m\n\u001b[0;32m      1\u001b[0m \u001b[0mreq_failed_ia\u001b[0m\u001b[1;33m.\u001b[0m\u001b[0mload_metric_as_dataframe\u001b[0m\u001b[1;33m(\u001b[0m\u001b[0mstart\u001b[0m\u001b[1;33m,\u001b[0m \u001b[0mend\u001b[0m\u001b[1;33m,\u001b[0m \u001b[1;34m'btalert_failed_requests_percent'\u001b[0m\u001b[1;33m)\u001b[0m\u001b[1;33m\u001b[0m\u001b[1;33m\u001b[0m\u001b[0m\n\u001b[0;32m      2\u001b[0m \u001b[0mreq_failed_ia\u001b[0m\u001b[1;33m.\u001b[0m\u001b[0msplit_test_train_dataframe\u001b[0m\u001b[1;33m(\u001b[0m\u001b[0mmin_split\u001b[0m\u001b[1;33m)\u001b[0m\u001b[1;33m\u001b[0m\u001b[1;33m\u001b[0m\u001b[0m\n\u001b[1;32m----> 3\u001b[1;33m \u001b[0mreq_failed_ia\u001b[0m\u001b[1;33m.\u001b[0m\u001b[0mtrain_model\u001b[0m\u001b[1;33m(\u001b[0m\u001b[1;33m)\u001b[0m\u001b[1;33m\u001b[0m\u001b[1;33m\u001b[0m\u001b[0m\n\u001b[0m\u001b[0;32m      4\u001b[0m \u001b[0mreq_failed_ia\u001b[0m\u001b[1;33m.\u001b[0m\u001b[0mpredict\u001b[0m\u001b[1;33m(\u001b[0m\u001b[1;36m30\u001b[0m\u001b[1;33m)\u001b[0m\u001b[1;33m\u001b[0m\u001b[1;33m\u001b[0m\u001b[0m\n\u001b[0;32m      5\u001b[0m \u001b[0mreq_failed_ia\u001b[0m\u001b[1;33m.\u001b[0m\u001b[0mplot_graphic\u001b[0m\u001b[1;33m(\u001b[0m\u001b[1;33m)\u001b[0m\u001b[1;33m\u001b[0m\u001b[1;33m\u001b[0m\u001b[0m\n",
      "\u001b[1;32m~\\AppData\\Local\\Temp\\ipykernel_20656\\3180886905.py\u001b[0m in \u001b[0;36mtrain_model\u001b[1;34m(self)\u001b[0m\n\u001b[0;32m     61\u001b[0m \u001b[1;33m\u001b[0m\u001b[0m\n\u001b[0;32m     62\u001b[0m     \u001b[1;32mdef\u001b[0m \u001b[0mtrain_model\u001b[0m\u001b[1;33m(\u001b[0m\u001b[0mself\u001b[0m\u001b[1;33m)\u001b[0m \u001b[1;33m->\u001b[0m \u001b[1;32mNone\u001b[0m\u001b[1;33m:\u001b[0m\u001b[1;33m\u001b[0m\u001b[1;33m\u001b[0m\u001b[0m\n\u001b[1;32m---> 63\u001b[1;33m         \u001b[0mself\u001b[0m\u001b[1;33m.\u001b[0m\u001b[0mforecaster\u001b[0m\u001b[1;33m.\u001b[0m\u001b[0mfit\u001b[0m\u001b[1;33m(\u001b[0m\u001b[0my\u001b[0m\u001b[1;33m=\u001b[0m\u001b[0mself\u001b[0m\u001b[1;33m.\u001b[0m\u001b[0mdata_train\u001b[0m\u001b[1;33m[\u001b[0m\u001b[0mself\u001b[0m\u001b[1;33m.\u001b[0m\u001b[0mvalue_column\u001b[0m\u001b[1;33m]\u001b[0m\u001b[1;33m)\u001b[0m\u001b[1;33m\u001b[0m\u001b[1;33m\u001b[0m\u001b[0m\n\u001b[0m\u001b[0;32m     64\u001b[0m \u001b[1;33m\u001b[0m\u001b[0m\n\u001b[0;32m     65\u001b[0m     \u001b[1;32mdef\u001b[0m \u001b[0mpredict\u001b[0m\u001b[1;33m(\u001b[0m\u001b[0mself\u001b[0m\u001b[1;33m,\u001b[0m \u001b[0mminutes_prediction\u001b[0m\u001b[1;33m:\u001b[0m \u001b[0mint\u001b[0m\u001b[1;33m)\u001b[0m \u001b[1;33m->\u001b[0m \u001b[0mpd\u001b[0m\u001b[1;33m.\u001b[0m\u001b[0mSeries\u001b[0m\u001b[1;33m:\u001b[0m\u001b[1;33m\u001b[0m\u001b[1;33m\u001b[0m\u001b[0m\n",
      "\u001b[1;32mc:\\users\\denis\\desktop\\api6\\btalert-ai\\venv\\lib\\site-packages\\skforecast\\ForecasterAutoreg\\ForecasterAutoreg.py\u001b[0m in \u001b[0;36mfit\u001b[1;34m(self, y, exog)\u001b[0m\n\u001b[0;32m    343\u001b[0m                  \u001b[0mexog\u001b[0m\u001b[1;33m.\u001b[0m\u001b[0mcolumns\u001b[0m\u001b[1;33m.\u001b[0m\u001b[0mto_list\u001b[0m\u001b[1;33m(\u001b[0m\u001b[1;33m)\u001b[0m \u001b[1;32mif\u001b[0m \u001b[0misinstance\u001b[0m\u001b[1;33m(\u001b[0m\u001b[0mexog\u001b[0m\u001b[1;33m,\u001b[0m \u001b[0mpd\u001b[0m\u001b[1;33m.\u001b[0m\u001b[0mDataFrame\u001b[0m\u001b[1;33m)\u001b[0m \u001b[1;32melse\u001b[0m \u001b[0mexog\u001b[0m\u001b[1;33m.\u001b[0m\u001b[0mname\u001b[0m\u001b[1;33m\u001b[0m\u001b[1;33m\u001b[0m\u001b[0m\n\u001b[0;32m    344\u001b[0m \u001b[1;33m\u001b[0m\u001b[0m\n\u001b[1;32m--> 345\u001b[1;33m         \u001b[0mX_train\u001b[0m\u001b[1;33m,\u001b[0m \u001b[0my_train\u001b[0m \u001b[1;33m=\u001b[0m \u001b[0mself\u001b[0m\u001b[1;33m.\u001b[0m\u001b[0mcreate_train_X_y\u001b[0m\u001b[1;33m(\u001b[0m\u001b[0my\u001b[0m\u001b[1;33m=\u001b[0m\u001b[0my\u001b[0m\u001b[1;33m,\u001b[0m \u001b[0mexog\u001b[0m\u001b[1;33m=\u001b[0m\u001b[0mexog\u001b[0m\u001b[1;33m)\u001b[0m\u001b[1;33m\u001b[0m\u001b[1;33m\u001b[0m\u001b[0m\n\u001b[0m\u001b[0;32m    346\u001b[0m \u001b[1;33m\u001b[0m\u001b[0m\n\u001b[0;32m    347\u001b[0m         \u001b[1;32mif\u001b[0m \u001b[1;32mnot\u001b[0m \u001b[0mstr\u001b[0m\u001b[1;33m(\u001b[0m\u001b[0mtype\u001b[0m\u001b[1;33m(\u001b[0m\u001b[0mself\u001b[0m\u001b[1;33m.\u001b[0m\u001b[0mregressor\u001b[0m\u001b[1;33m)\u001b[0m\u001b[1;33m)\u001b[0m \u001b[1;33m==\u001b[0m \u001b[1;34m\"<class 'xgboost.sklearn.XGBRegressor'>\"\u001b[0m\u001b[1;33m:\u001b[0m\u001b[1;33m\u001b[0m\u001b[1;33m\u001b[0m\u001b[0m\n",
      "\u001b[1;32mc:\\users\\denis\\desktop\\api6\\btalert-ai\\venv\\lib\\site-packages\\skforecast\\ForecasterAutoreg\\ForecasterAutoreg.py\u001b[0m in \u001b[0;36mcreate_train_X_y\u001b[1;34m(self, y, exog)\u001b[0m\n\u001b[0;32m    276\u001b[0m                 )\n\u001b[0;32m    277\u001b[0m \u001b[1;33m\u001b[0m\u001b[0m\n\u001b[1;32m--> 278\u001b[1;33m         \u001b[0mX_train\u001b[0m\u001b[1;33m,\u001b[0m \u001b[0my_train\u001b[0m \u001b[1;33m=\u001b[0m \u001b[0mself\u001b[0m\u001b[1;33m.\u001b[0m\u001b[0m_create_lags\u001b[0m\u001b[1;33m(\u001b[0m\u001b[0my\u001b[0m\u001b[1;33m=\u001b[0m\u001b[0my_values\u001b[0m\u001b[1;33m)\u001b[0m\u001b[1;33m\u001b[0m\u001b[1;33m\u001b[0m\u001b[0m\n\u001b[0m\u001b[0;32m    279\u001b[0m         \u001b[0mX_train_col_names\u001b[0m \u001b[1;33m=\u001b[0m \u001b[1;33m[\u001b[0m\u001b[1;34mf\"lag_{i}\"\u001b[0m \u001b[1;32mfor\u001b[0m \u001b[0mi\u001b[0m \u001b[1;32min\u001b[0m \u001b[0mself\u001b[0m\u001b[1;33m.\u001b[0m\u001b[0mlags\u001b[0m\u001b[1;33m]\u001b[0m\u001b[1;33m\u001b[0m\u001b[1;33m\u001b[0m\u001b[0m\n\u001b[0;32m    280\u001b[0m         \u001b[1;32mif\u001b[0m \u001b[0mexog\u001b[0m \u001b[1;32mis\u001b[0m \u001b[1;32mnot\u001b[0m \u001b[1;32mNone\u001b[0m\u001b[1;33m:\u001b[0m\u001b[1;33m\u001b[0m\u001b[1;33m\u001b[0m\u001b[0m\n",
      "\u001b[1;32mc:\\users\\denis\\desktop\\api6\\btalert-ai\\venv\\lib\\site-packages\\skforecast\\ForecasterAutoreg\\ForecasterAutoreg.py\u001b[0m in \u001b[0;36m_create_lags\u001b[1;34m(self, y)\u001b[0m\n\u001b[0;32m    217\u001b[0m \u001b[1;33m\u001b[0m\u001b[0m\n\u001b[0;32m    218\u001b[0m         \u001b[0mn_splits\u001b[0m \u001b[1;33m=\u001b[0m \u001b[0mlen\u001b[0m\u001b[1;33m(\u001b[0m\u001b[0my\u001b[0m\u001b[1;33m)\u001b[0m \u001b[1;33m-\u001b[0m \u001b[0mself\u001b[0m\u001b[1;33m.\u001b[0m\u001b[0mmax_lag\u001b[0m\u001b[1;33m\u001b[0m\u001b[1;33m\u001b[0m\u001b[0m\n\u001b[1;32m--> 219\u001b[1;33m         \u001b[0mX_data\u001b[0m   \u001b[1;33m=\u001b[0m \u001b[0mnp\u001b[0m\u001b[1;33m.\u001b[0m\u001b[0mfull\u001b[0m\u001b[1;33m(\u001b[0m\u001b[0mshape\u001b[0m\u001b[1;33m=\u001b[0m\u001b[1;33m(\u001b[0m\u001b[0mn_splits\u001b[0m\u001b[1;33m,\u001b[0m \u001b[0mself\u001b[0m\u001b[1;33m.\u001b[0m\u001b[0mmax_lag\u001b[0m\u001b[1;33m)\u001b[0m\u001b[1;33m,\u001b[0m \u001b[0mfill_value\u001b[0m\u001b[1;33m=\u001b[0m\u001b[0mnp\u001b[0m\u001b[1;33m.\u001b[0m\u001b[0mnan\u001b[0m\u001b[1;33m,\u001b[0m \u001b[0mdtype\u001b[0m\u001b[1;33m=\u001b[0m\u001b[0mfloat\u001b[0m\u001b[1;33m)\u001b[0m\u001b[1;33m\u001b[0m\u001b[1;33m\u001b[0m\u001b[0m\n\u001b[0m\u001b[0;32m    220\u001b[0m         \u001b[0my_data\u001b[0m   \u001b[1;33m=\u001b[0m \u001b[0mnp\u001b[0m\u001b[1;33m.\u001b[0m\u001b[0mfull\u001b[0m\u001b[1;33m(\u001b[0m\u001b[0mshape\u001b[0m\u001b[1;33m=\u001b[0m\u001b[1;33m(\u001b[0m\u001b[0mn_splits\u001b[0m\u001b[1;33m,\u001b[0m \u001b[1;36m1\u001b[0m\u001b[1;33m)\u001b[0m\u001b[1;33m,\u001b[0m \u001b[0mfill_value\u001b[0m\u001b[1;33m=\u001b[0m\u001b[0mnp\u001b[0m\u001b[1;33m.\u001b[0m\u001b[0mnan\u001b[0m\u001b[1;33m,\u001b[0m \u001b[0mdtype\u001b[0m\u001b[1;33m=\u001b[0m \u001b[0mfloat\u001b[0m\u001b[1;33m)\u001b[0m\u001b[1;33m\u001b[0m\u001b[1;33m\u001b[0m\u001b[0m\n\u001b[0;32m    221\u001b[0m \u001b[1;33m\u001b[0m\u001b[0m\n",
      "\u001b[1;32mc:\\users\\denis\\desktop\\api6\\btalert-ai\\venv\\lib\\site-packages\\numpy\\core\\numeric.py\u001b[0m in \u001b[0;36mfull\u001b[1;34m(shape, fill_value, dtype, order, like)\u001b[0m\n\u001b[0;32m    341\u001b[0m         \u001b[0mfill_value\u001b[0m \u001b[1;33m=\u001b[0m \u001b[0masarray\u001b[0m\u001b[1;33m(\u001b[0m\u001b[0mfill_value\u001b[0m\u001b[1;33m)\u001b[0m\u001b[1;33m\u001b[0m\u001b[1;33m\u001b[0m\u001b[0m\n\u001b[0;32m    342\u001b[0m         \u001b[0mdtype\u001b[0m \u001b[1;33m=\u001b[0m \u001b[0mfill_value\u001b[0m\u001b[1;33m.\u001b[0m\u001b[0mdtype\u001b[0m\u001b[1;33m\u001b[0m\u001b[1;33m\u001b[0m\u001b[0m\n\u001b[1;32m--> 343\u001b[1;33m     \u001b[0ma\u001b[0m \u001b[1;33m=\u001b[0m \u001b[0mempty\u001b[0m\u001b[1;33m(\u001b[0m\u001b[0mshape\u001b[0m\u001b[1;33m,\u001b[0m \u001b[0mdtype\u001b[0m\u001b[1;33m,\u001b[0m \u001b[0morder\u001b[0m\u001b[1;33m)\u001b[0m\u001b[1;33m\u001b[0m\u001b[1;33m\u001b[0m\u001b[0m\n\u001b[0m\u001b[0;32m    344\u001b[0m     \u001b[0mmultiarray\u001b[0m\u001b[1;33m.\u001b[0m\u001b[0mcopyto\u001b[0m\u001b[1;33m(\u001b[0m\u001b[0ma\u001b[0m\u001b[1;33m,\u001b[0m \u001b[0mfill_value\u001b[0m\u001b[1;33m,\u001b[0m \u001b[0mcasting\u001b[0m\u001b[1;33m=\u001b[0m\u001b[1;34m'unsafe'\u001b[0m\u001b[1;33m)\u001b[0m\u001b[1;33m\u001b[0m\u001b[1;33m\u001b[0m\u001b[0m\n\u001b[0;32m    345\u001b[0m     \u001b[1;32mreturn\u001b[0m \u001b[0ma\u001b[0m\u001b[1;33m\u001b[0m\u001b[1;33m\u001b[0m\u001b[0m\n",
      "\u001b[1;31mValueError\u001b[0m: negative dimensions are not allowed"
     ]
    }
   ],
   "source": [
    "req_failed_ia.load_metric_as_dataframe(start, end, 'btalert_failed_requests_percent')\n",
    "req_failed_ia.split_test_train_dataframe(min_split)\n",
    "req_failed_ia.train_model()\n",
    "req_failed_ia.predict(30)\n",
    "req_failed_ia.plot_graphic()"
   ]
  },
  {
   "cell_type": "code",
   "execution_count": 32,
   "id": "59ec8744",
   "metadata": {},
   "outputs": [],
   "source": [
    "req_failed = req_failed_ia.load_metric_as_dataframe(start, end, 'btalert_failed_requests_percent', 'req_failed')\n",
    "requests_per_second = req_failed_ia.load_metric_as_dataframe(start, end, 'btalert_requests_per_second', 'request_per_sec')\n",
    "#pg_lock_count = req_failed_ia.load_metric_as_dataframe(start, end, 'pg_lock_count')\n",
    "max_cpu = req_failed_ia.load_metric_as_dataframe(start, end, 'max(rate(container_cpu_usage_seconds_total{image=\"api6-backend_cadastrol-server\"}[1m:15s]))', 'cpu_percent')\n",
    "memory = req_failed_ia.load_metric_as_dataframe(start, end, 'container_memory_rss{name=\"cadastrol-server\"} / container_spec_memory_limit_bytes{name=\"cadastrol-server\"}', 'memory_percent')"
   ]
  },
  {
   "cell_type": "code",
   "execution_count": 33,
   "id": "453a3867",
   "metadata": {},
   "outputs": [
    {
     "data": {
      "text/html": [
       "<div>\n",
       "<style scoped>\n",
       "    .dataframe tbody tr th:only-of-type {\n",
       "        vertical-align: middle;\n",
       "    }\n",
       "\n",
       "    .dataframe tbody tr th {\n",
       "        vertical-align: top;\n",
       "    }\n",
       "\n",
       "    .dataframe thead th {\n",
       "        text-align: right;\n",
       "    }\n",
       "</style>\n",
       "<table border=\"1\" class=\"dataframe\">\n",
       "  <thead>\n",
       "    <tr style=\"text-align: right;\">\n",
       "      <th></th>\n",
       "      <th>req_failed</th>\n",
       "      <th>request_per_sec</th>\n",
       "      <th>cpu_percent</th>\n",
       "      <th>memory_percent</th>\n",
       "    </tr>\n",
       "    <tr>\n",
       "      <th>timestamp</th>\n",
       "      <th></th>\n",
       "      <th></th>\n",
       "      <th></th>\n",
       "      <th></th>\n",
       "    </tr>\n",
       "  </thead>\n",
       "  <tbody>\n",
       "    <tr>\n",
       "      <th>1652266207</th>\n",
       "      <td>0.00</td>\n",
       "      <td>0.00</td>\n",
       "      <td>0.000286</td>\n",
       "      <td>0.681229</td>\n",
       "    </tr>\n",
       "    <tr>\n",
       "      <th>1652266222</th>\n",
       "      <td>0.00</td>\n",
       "      <td>0.80</td>\n",
       "      <td>0.022767</td>\n",
       "      <td>0.740280</td>\n",
       "    </tr>\n",
       "    <tr>\n",
       "      <th>1652266237</th>\n",
       "      <td>0.00</td>\n",
       "      <td>12.07</td>\n",
       "      <td>0.065587</td>\n",
       "      <td>0.783585</td>\n",
       "    </tr>\n",
       "    <tr>\n",
       "      <th>1652266252</th>\n",
       "      <td>0.00</td>\n",
       "      <td>15.27</td>\n",
       "      <td>0.116834</td>\n",
       "      <td>0.881149</td>\n",
       "    </tr>\n",
       "    <tr>\n",
       "      <th>1652266267</th>\n",
       "      <td>0.00</td>\n",
       "      <td>20.93</td>\n",
       "      <td>0.172781</td>\n",
       "      <td>0.863525</td>\n",
       "    </tr>\n",
       "    <tr>\n",
       "      <th>1652266282</th>\n",
       "      <td>0.00</td>\n",
       "      <td>30.07</td>\n",
       "      <td>0.192723</td>\n",
       "      <td>0.881653</td>\n",
       "    </tr>\n",
       "    <tr>\n",
       "      <th>1652266297</th>\n",
       "      <td>0.00</td>\n",
       "      <td>18.73</td>\n",
       "      <td>0.181848</td>\n",
       "      <td>0.883163</td>\n",
       "    </tr>\n",
       "    <tr>\n",
       "      <th>1652266312</th>\n",
       "      <td>10.00</td>\n",
       "      <td>2.00</td>\n",
       "      <td>0.121906</td>\n",
       "      <td>0.883667</td>\n",
       "    </tr>\n",
       "    <tr>\n",
       "      <th>1652266327</th>\n",
       "      <td>16.67</td>\n",
       "      <td>0.80</td>\n",
       "      <td>0.055520</td>\n",
       "      <td>0.891724</td>\n",
       "    </tr>\n",
       "    <tr>\n",
       "      <th>1652266342</th>\n",
       "      <td>17.04</td>\n",
       "      <td>29.73</td>\n",
       "      <td>0.080977</td>\n",
       "      <td>0.891724</td>\n",
       "    </tr>\n",
       "  </tbody>\n",
       "</table>\n",
       "</div>"
      ],
      "text/plain": [
       "            req_failed  request_per_sec  cpu_percent  memory_percent\n",
       "timestamp                                                           \n",
       "1652266207        0.00             0.00     0.000286        0.681229\n",
       "1652266222        0.00             0.80     0.022767        0.740280\n",
       "1652266237        0.00            12.07     0.065587        0.783585\n",
       "1652266252        0.00            15.27     0.116834        0.881149\n",
       "1652266267        0.00            20.93     0.172781        0.863525\n",
       "1652266282        0.00            30.07     0.192723        0.881653\n",
       "1652266297        0.00            18.73     0.181848        0.883163\n",
       "1652266312       10.00             2.00     0.121906        0.883667\n",
       "1652266327       16.67             0.80     0.055520        0.891724\n",
       "1652266342       17.04            29.73     0.080977        0.891724"
      ]
     },
     "execution_count": 33,
     "metadata": {},
     "output_type": "execute_result"
    }
   ],
   "source": [
    "res = pd.concat([req_failed, requests_per_second, max_cpu, memory], axis=1)\n",
    "res.head(10)"
   ]
  },
  {
   "cell_type": "code",
   "execution_count": 36,
   "id": "976f617d",
   "metadata": {},
   "outputs": [],
   "source": [
    "res.to_csv('dados.csv', sep=';', encoding='utf-8')"
   ]
  },
  {
   "cell_type": "code",
   "execution_count": 29,
   "id": "b621949a",
   "metadata": {},
   "outputs": [
    {
     "data": {
      "text/html": [
       "<div>\n",
       "<style scoped>\n",
       "    .dataframe tbody tr th:only-of-type {\n",
       "        vertical-align: middle;\n",
       "    }\n",
       "\n",
       "    .dataframe tbody tr th {\n",
       "        vertical-align: top;\n",
       "    }\n",
       "\n",
       "    .dataframe thead th {\n",
       "        text-align: right;\n",
       "    }\n",
       "</style>\n",
       "<table border=\"1\" class=\"dataframe\">\n",
       "  <thead>\n",
       "    <tr style=\"text-align: right;\">\n",
       "      <th></th>\n",
       "      <th>req_failed</th>\n",
       "      <th>request_per_sec</th>\n",
       "      <th>cpu_percent</th>\n",
       "      <th>memory_percent</th>\n",
       "    </tr>\n",
       "  </thead>\n",
       "  <tbody>\n",
       "    <tr>\n",
       "      <th>req_failed</th>\n",
       "      <td>1.000000</td>\n",
       "      <td>-0.648486</td>\n",
       "      <td>-0.497337</td>\n",
       "      <td>-0.504827</td>\n",
       "    </tr>\n",
       "    <tr>\n",
       "      <th>request_per_sec</th>\n",
       "      <td>-0.648486</td>\n",
       "      <td>1.000000</td>\n",
       "      <td>0.902064</td>\n",
       "      <td>0.367997</td>\n",
       "    </tr>\n",
       "    <tr>\n",
       "      <th>cpu_percent</th>\n",
       "      <td>-0.497337</td>\n",
       "      <td>0.902064</td>\n",
       "      <td>1.000000</td>\n",
       "      <td>0.340265</td>\n",
       "    </tr>\n",
       "    <tr>\n",
       "      <th>memory_percent</th>\n",
       "      <td>-0.504827</td>\n",
       "      <td>0.367997</td>\n",
       "      <td>0.340265</td>\n",
       "      <td>1.000000</td>\n",
       "    </tr>\n",
       "  </tbody>\n",
       "</table>\n",
       "</div>"
      ],
      "text/plain": [
       "                 req_failed  request_per_sec  cpu_percent  memory_percent\n",
       "req_failed         1.000000        -0.648486    -0.497337       -0.504827\n",
       "request_per_sec   -0.648486         1.000000     0.902064        0.367997\n",
       "cpu_percent       -0.497337         0.902064     1.000000        0.340265\n",
       "memory_percent    -0.504827         0.367997     0.340265        1.000000"
      ]
     },
     "execution_count": 29,
     "metadata": {},
     "output_type": "execute_result"
    }
   ],
   "source": [
    "cor = res.corr()\n",
    "cor"
   ]
  },
  {
   "cell_type": "code",
   "execution_count": 24,
   "id": "d858c5a5",
   "metadata": {},
   "outputs": [
    {
     "data": {
      "text/plain": [
       "<AxesSubplot:>"
      ]
     },
     "execution_count": 24,
     "metadata": {},
     "output_type": "execute_result"
    },
    {
     "data": {
      "image/png": "[encoded data removed]",
      "text/plain": [
       "<Figure size 432x288 with 2 Axes>"
      ]
     },
     "metadata": {
      "needs_background": "light"
     },
     "output_type": "display_data"
    }
   ],
   "source": [
    "import seaborn as sn\n",
    "plot = sn.heatmap(cor, annot=True, fmt='0.1f', linewidths=.6)\n",
    "plot"
   ]
  },
  {
   "cell_type": "code",
   "execution_count": 30,
   "id": "a897f559",
   "metadata": {},
   "outputs": [
    {
     "data": {
      "text/plain": [
       "<AxesSubplot:>"
      ]
     },
     "execution_count": 30,
     "metadata": {},
     "output_type": "execute_result"
    },
    {
     "data": {
      "image/png": "[encoded data removed]",
      "text/plain": [
       "<Figure size 432x288 with 2 Axes>"
      ]
     },
     "metadata": {
      "needs_background": "light"
     },
     "output_type": "display_data"
    }
   ],
   "source": [
    "plot = sn.heatmap(cor, annot=True, fmt='0.1f', linewidths=.6)\n",
    "plot"
   ]
  }
 ],
 "metadata": {
  "kernelspec": {
   "display_name": "Python 3 (ipykernel)",
   "language": "python",
   "name": "python3"
  },
  "language_info": {
   "codemirror_mode": {
    "name": "ipython",
    "version": 3
   },
   "file_extension": ".py",
   "mimetype": "text/x-python",
   "name": "python",
   "nbconvert_exporter": "python",
   "pygments_lexer": "ipython3",
   "version": "3.7.9"
  }
 },
 "nbformat": 4,
 "nbformat_minor": 5
}
